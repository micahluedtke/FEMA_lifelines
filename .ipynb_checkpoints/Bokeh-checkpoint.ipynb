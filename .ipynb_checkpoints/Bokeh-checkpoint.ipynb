{
 "cells": [
  {
   "cell_type": "code",
   "execution_count": 1,
   "metadata": {},
   "outputs": [],
   "source": [
    "import pandas as pd\n",
    "import geopandas as gpd\n",
    "import matplotlib.pyplot as plt\n",
    "%matplotlib inline"
   ]
  },
  {
   "cell_type": "code",
   "execution_count": 215,
   "metadata": {},
   "outputs": [],
   "source": [
    "from bokeh.palettes import RdYlBu11, Spectral6, Blues8\n",
    "from bokeh.models import LogColorMapper\n",
    "from bokeh.transform import linear_cmap\n",
    "from bokeh.plotting import figure, save, show\n",
    "from bokeh.models import ColumnDataSource, HoverTool, LogColorMapper\n",
    "import pysal as ps"
   ]
  },
  {
   "cell_type": "code",
   "execution_count": 156,
   "metadata": {},
   "outputs": [],
   "source": [
    "census = gpd.read_file('census_clean/')"
   ]
  },
  {
   "cell_type": "code",
   "execution_count": 157,
   "metadata": {},
   "outputs": [],
   "source": [
    "census.drop(1475, inplace=True)"
   ]
  },
  {
   "cell_type": "code",
   "execution_count": 192,
   "metadata": {},
   "outputs": [],
   "source": [
    "lifeline = gpd.read_file('lifeline_clean/')"
   ]
  },
  {
   "cell_type": "code",
   "execution_count": 230,
   "metadata": {},
   "outputs": [],
   "source": [
    "powergrid = gpd.read_file('Electric_Power_Transmission_Lines/')"
   ]
  },
  {
   "cell_type": "code",
   "execution_count": 235,
   "metadata": {},
   "outputs": [],
   "source": [
    "hazmat = gpd.read_file('hazmat_clean/')"
   ]
  },
  {
   "cell_type": "code",
   "execution_count": 231,
   "metadata": {},
   "outputs": [],
   "source": [
    "powergrid.drop(index=378, inplace=True)"
   ]
  },
  {
   "cell_type": "code",
   "execution_count": 158,
   "metadata": {},
   "outputs": [],
   "source": [
    "census.fillna(0, inplace=True)"
   ]
  },
  {
   "cell_type": "code",
   "execution_count": 148,
   "metadata": {},
   "outputs": [
    {
     "name": "stdout",
     "output_type": "stream",
     "text": [
      "0\n",
      "2\n",
      "9\n",
      "212\n",
      "216\n",
      "221\n",
      "222\n",
      "227\n",
      "285\n",
      "286\n",
      "452\n",
      "730\n",
      "791\n",
      "914\n",
      "983\n",
      "984\n",
      "986\n",
      "1349\n",
      "1453\n"
     ]
    }
   ],
   "source": [
    "for i in range(len(census)):\n",
    "    if 'multi' in str(type(census['geometry'][i])):\n",
    "        print(i)"
   ]
  },
  {
   "cell_type": "code",
   "execution_count": 31,
   "metadata": {},
   "outputs": [],
   "source": [
    "a, b, c = list(census['geometry'][0])"
   ]
  },
  {
   "cell_type": "code",
   "execution_count": 47,
   "metadata": {},
   "outputs": [],
   "source": [
    "multipolygon = [0,2,9,212,216,221,222,227,285,286,452,730,791,914,983,984,986,1349,1453]"
   ]
  },
  {
   "cell_type": "code",
   "execution_count": null,
   "metadata": {},
   "outputs": [],
   "source": []
  },
  {
   "cell_type": "code",
   "execution_count": 159,
   "metadata": {},
   "outputs": [],
   "source": [
    "# for i in multipolygon:\n",
    "#     number = range(len(census['geometry'][i]))\n",
    "# #     print(number)\n",
    "#     for j in number:\n",
    "#         length = len(census)\n",
    "#         census = census.append(census.iloc[i], ignore_index=True)\n",
    "#         census.iloc[length-1]['geometry'] = census['geometry'][i][j]\n",
    "#         print(census['geometry'][i][j])"
   ]
  },
  {
   "cell_type": "code",
   "execution_count": 160,
   "metadata": {},
   "outputs": [],
   "source": [
    "census.drop(multipolygon, inplace=True)"
   ]
  },
  {
   "cell_type": "code",
   "execution_count": 123,
   "metadata": {},
   "outputs": [],
   "source": [
    "def split_polygon(df, target):\n",
    "    for i in target:\n",
    "        number = range(len(df['geometry'][i]))\n",
    "        for j in number:\n",
    "            length = len(df)\n",
    "            df = df.append(df.iloc[i], ignore_index=True)\n",
    "            df.iloc[length-1]['geometry'] = df['geometry'][i][j]"
   ]
  },
  {
   "cell_type": "code",
   "execution_count": 124,
   "metadata": {
    "scrolled": false
   },
   "outputs": [
    {
     "name": "stderr",
     "output_type": "stream",
     "text": [
      "/anaconda3/lib/python3.6/site-packages/ipykernel_launcher.py:7: SettingWithCopyWarning: \n",
      "A value is trying to be set on a copy of a slice from a DataFrame\n",
      "\n",
      "See the caveats in the documentation: http://pandas.pydata.org/pandas-docs/stable/indexing.html#indexing-view-versus-copy\n",
      "  import sys\n"
     ]
    }
   ],
   "source": [
    "split_polygon(census, multipolygon)"
   ]
  },
  {
   "cell_type": "code",
   "execution_count": 195,
   "metadata": {},
   "outputs": [],
   "source": [
    "def getPointCoords(row, geom, coord_type):\n",
    "    \"\"\"Calculates coordinates ('x' or 'y') of a Point geometry\"\"\"\n",
    "    if coord_type == 'x':\n",
    "        return row[geom].x\n",
    "    elif coord_type == 'y':\n",
    "        return row[geom].y"
   ]
  },
  {
   "cell_type": "code",
   "execution_count": 236,
   "metadata": {},
   "outputs": [],
   "source": [
    "hazmat['x'] = hazmat.apply(getPointCoords, geom='geometry', coord_type='x', axis=1)\n",
    "hazmat['y'] = hazmat.apply(getPointCoords, geom='geometry', coord_type='y', axis=1)\n",
    "lifeline['x'] = lifeline.apply(getPointCoords, geom='geometry', coord_type='x', axis=1)\n",
    "lifeline['y'] = lifeline.apply(getPointCoords, geom='geometry', coord_type='y', axis=1)"
   ]
  },
  {
   "cell_type": "code",
   "execution_count": 213,
   "metadata": {},
   "outputs": [],
   "source": [
    "def getLineCoords(row, geom, coord_type):\n",
    "    \"\"\"Returns a list of coordinates ('x' or 'y') of a LineString geometry\"\"\"\n",
    "    if coord_type == 'x':\n",
    "        return list( row[geom].coords.xy[0] )\n",
    "    elif coord_type == 'y':\n",
    "        return list( row[geom].coords.xy[1] )"
   ]
  },
  {
   "cell_type": "code",
   "execution_count": 232,
   "metadata": {},
   "outputs": [],
   "source": [
    "powergrid['x'] = powergrid.apply(getLineCoords, geom='geometry', coord_type='x', axis=1)\n",
    "powergrid['y'] = powergrid.apply(getLineCoords, geom='geometry', coord_type='y', axis=1)"
   ]
  },
  {
   "cell_type": "code",
   "execution_count": 131,
   "metadata": {},
   "outputs": [],
   "source": [
    "def getPolyCoords(row, geom, coord_type):\n",
    "    \"\"\"Returns the coordinates ('x' or 'y') of edges of a Polygon exterior\"\"\"\n",
    "\n",
    "    # Parse the exterior of the coordinate\n",
    "    exterior = row[geom].exterior\n",
    "\n",
    "    if coord_type == 'x':\n",
    "        # Get the x coordinates of the exterior\n",
    "        return list( exterior.coords.xy[0] )\n",
    "    elif coord_type == 'y':\n",
    "        # Get the y coordinates of the exterior\n",
    "        return list( exterior.coords.xy[1] )"
   ]
  },
  {
   "cell_type": "code",
   "execution_count": 161,
   "metadata": {},
   "outputs": [],
   "source": [
    "census['x'] = census.apply(getPolyCoords, geom='geometry', coord_type='x', axis=1)\n",
    "census['y'] = census.apply(getPolyCoords, geom='geometry', coord_type='y', axis=1)"
   ]
  },
  {
   "cell_type": "code",
   "execution_count": 245,
   "metadata": {},
   "outputs": [],
   "source": [
    "color_mapper = LogColorMapper(palette=Spectral6)\n",
    "pointsource = ColumnDataSource(lifeline.drop(columns='geometry'))\n",
    "mapsource = ColumnDataSource(census.drop(columns='geometry'))\n",
    "hazmatsource = ColumnDataSource(hazmat.drop(columns='geometry'))\n",
    "gridsource = ColumnDataSource(powergrid.drop(columns='geometry'))\n",
    "\n",
    "mass = figure(plot_width=950, plot_height=600, title=\"Massachusetts Risk Assessment\")\n",
    "\n",
    "base = mass.patches('x', 'y', source=mapsource,\n",
    "             fill_color=linear_cmap('risk', 'Blues8', 0, max(census['risk'])),\n",
    "             fill_alpha=1.0, \n",
    "             line_color=\"black\", \n",
    "             line_width=0.05)\n",
    "\n",
    "grid = mass.multi_line('x', 'y', source=gridsource, color='yellow', line_width=2)\n",
    "\n",
    "waste = mass.circle('x', 'y', size=3, source=hazmatsource, color=\"red\")\n",
    "\n",
    "points = mass.circle('x', 'y', size=3, source=pointsource, color=\"black\")\n"
   ]
  },
  {
   "cell_type": "code",
   "execution_count": 246,
   "metadata": {},
   "outputs": [],
   "source": [
    "base_hover = HoverTool(renderers=[base])\n",
    "point_hover = HoverTool(renderers=[points])\n",
    "hazmat_hover = HoverTool(renderers=[waste])\n",
    "grid_hover = HoverTool(renderers=[grid])"
   ]
  },
  {
   "cell_type": "code",
   "execution_count": 247,
   "metadata": {},
   "outputs": [],
   "source": [
    "base_hover.tooltips = [('Risk', '@risk'),\n",
    "                     ('County', '@COUNTY'),\n",
    "                     ('Resource Score','@resource'),\n",
    "                       ('SVI','@RPL_THEMES'),\n",
    "                       ('Population','@E_TOTPOP'),\n",
    "                       \n",
    "                    ]"
   ]
  },
  {
   "cell_type": "code",
   "execution_count": 248,
   "metadata": {},
   "outputs": [],
   "source": [
    "point_hover.tooltips = [('Lifeline', '@lifeline'),\n",
    "                     ('Category', '@category'),\n",
    "                     ('Name','@name')\n",
    "                    ]"
   ]
  },
  {
   "cell_type": "code",
   "execution_count": 249,
   "metadata": {},
   "outputs": [],
   "source": [
    "hazmat_hover.tooltips = [('Address','@Hazardous')\n",
    "                    ]"
   ]
  },
  {
   "cell_type": "code",
   "execution_count": 250,
   "metadata": {},
   "outputs": [],
   "source": [
    "grid_hover.tooltips = [('Type', '@TYPE')\n",
    "                    ]"
   ]
  },
  {
   "cell_type": "code",
   "execution_count": 251,
   "metadata": {},
   "outputs": [],
   "source": [
    "mass.add_tools(base_hover, point_hover, hazmat_hover, grid_hover)"
   ]
  },
  {
   "cell_type": "code",
   "execution_count": 252,
   "metadata": {},
   "outputs": [],
   "source": [
    "show(mass)"
   ]
  },
  {
   "cell_type": "code",
   "execution_count": 253,
   "metadata": {},
   "outputs": [
    {
     "name": "stderr",
     "output_type": "stream",
     "text": [
      "/anaconda3/lib/python3.6/site-packages/bokeh/io/saving.py:126: UserWarning: save() called but no resources were supplied and output_file(...) was never called, defaulting to resources.CDN\n",
      "  warn(\"save() called but no resources were supplied and output_file(...) was never called, defaulting to resources.CDN\")\n",
      "/anaconda3/lib/python3.6/site-packages/bokeh/io/saving.py:139: UserWarning: save() called but no title was supplied and output_file(...) was never called, using default title 'Bokeh Plot'\n",
      "  warn(\"save() called but no title was supplied and output_file(...) was never called, using default title 'Bokeh Plot'\")\n"
     ]
    },
    {
     "data": {
      "text/plain": [
       "'/Users/micahluedtke/Documents/DSI-7/projects/project_4_real/mass.html'"
      ]
     },
     "execution_count": 253,
     "metadata": {},
     "output_type": "execute_result"
    }
   ],
   "source": [
    "save(obj=mass, filename='mass.html')"
   ]
  },
  {
   "cell_type": "code",
   "execution_count": null,
   "metadata": {},
   "outputs": [],
   "source": []
  }
 ],
 "metadata": {
  "kernelspec": {
   "display_name": "Python 3",
   "language": "python",
   "name": "python3"
  },
  "language_info": {
   "codemirror_mode": {
    "name": "ipython",
    "version": 3
   },
   "file_extension": ".py",
   "mimetype": "text/x-python",
   "name": "python",
   "nbconvert_exporter": "python",
   "pygments_lexer": "ipython3",
   "version": "3.6.8"
  }
 },
 "nbformat": 4,
 "nbformat_minor": 2
}
