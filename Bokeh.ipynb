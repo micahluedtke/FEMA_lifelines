{
 "cells": [
  {
   "cell_type": "code",
   "execution_count": 1,
   "metadata": {},
   "outputs": [],
   "source": [
    "import pandas as pd\n",
    "import geopandas as gpd\n",
    "import matplotlib.pyplot as plt\n",
    "%matplotlib inline"
   ]
  },
  {
   "cell_type": "code",
   "execution_count": 3,
   "metadata": {},
   "outputs": [],
   "source": [
    "from bokeh import palettes\n",
    "from bokeh.models import LogColorMapper\n",
    "from bokeh.transform import linear_cmap\n",
    "from bokeh.plotting import figure, save, show\n",
    "from bokeh.models import ColumnDataSource, HoverTool, LogColorMapper\n",
    "import pysal as ps"
   ]
  },
  {
   "cell_type": "code",
   "execution_count": 4,
   "metadata": {},
   "outputs": [],
   "source": [
    "census = gpd.read_file('census_clean/')"
   ]
  },
  {
   "cell_type": "code",
   "execution_count": 5,
   "metadata": {},
   "outputs": [],
   "source": [
    "census.drop(1475, inplace=True)"
   ]
  },
  {
   "cell_type": "code",
   "execution_count": 6,
   "metadata": {},
   "outputs": [],
   "source": [
    "lifeline = gpd.read_file('lifeline_clean/')"
   ]
  },
  {
   "cell_type": "code",
   "execution_count": 7,
   "metadata": {},
   "outputs": [
    {
     "data": {
      "text/plain": [
       "food_water_shelter    1580\n",
       "safety_security        377\n",
       "health_medical         363\n",
       "transportation         352\n",
       "Name: lifeline, dtype: int64"
      ]
     },
     "execution_count": 7,
     "metadata": {},
     "output_type": "execute_result"
    }
   ],
   "source": [
    "lifeline['lifeline'].value_counts()"
   ]
  },
  {
   "cell_type": "code",
   "execution_count": 8,
   "metadata": {},
   "outputs": [],
   "source": [
    "lifeline['lifeline_numeric'] = lifeline['lifeline'].map({'food_water_shelter' : 1,\n",
    "'safety_security' : 2,\n",
    "'health_medical' : 3,\n",
    "'transportation' : 4})"
   ]
  },
  {
   "cell_type": "code",
   "execution_count": 9,
   "metadata": {},
   "outputs": [
    {
     "data": {
      "text/html": [
       "<div>\n",
       "<style scoped>\n",
       "    .dataframe tbody tr th:only-of-type {\n",
       "        vertical-align: middle;\n",
       "    }\n",
       "\n",
       "    .dataframe tbody tr th {\n",
       "        vertical-align: top;\n",
       "    }\n",
       "\n",
       "    .dataframe thead th {\n",
       "        text-align: right;\n",
       "    }\n",
       "</style>\n",
       "<table border=\"1\" class=\"dataframe\">\n",
       "  <thead>\n",
       "    <tr style=\"text-align: right;\">\n",
       "      <th></th>\n",
       "      <th>field_1</th>\n",
       "      <th>category</th>\n",
       "      <th>lat</th>\n",
       "      <th>long</th>\n",
       "      <th>name</th>\n",
       "      <th>FIPS</th>\n",
       "      <th>lifeline</th>\n",
       "      <th>geometry</th>\n",
       "      <th>lifeline_numeric</th>\n",
       "    </tr>\n",
       "  </thead>\n",
       "  <tbody>\n",
       "    <tr>\n",
       "      <th>0</th>\n",
       "      <td>0</td>\n",
       "      <td>police</td>\n",
       "      <td>42.16724517340408</td>\n",
       "      <td>-71.35879082837904</td>\n",
       "      <td>Millis Police Station</td>\n",
       "      <td>25021407100</td>\n",
       "      <td>safety_security</td>\n",
       "      <td>POINT (-71.35879082837904 42.16724517340408)</td>\n",
       "      <td>2</td>\n",
       "    </tr>\n",
       "    <tr>\n",
       "      <th>1</th>\n",
       "      <td>1</td>\n",
       "      <td>police</td>\n",
       "      <td>41.90084023770307</td>\n",
       "      <td>-71.08901583982912</td>\n",
       "      <td>Taunton Police Department</td>\n",
       "      <td>25005613800</td>\n",
       "      <td>safety_security</td>\n",
       "      <td>POINT (-71.08901583982912 41.90084023770307)</td>\n",
       "      <td>2</td>\n",
       "    </tr>\n",
       "    <tr>\n",
       "      <th>2</th>\n",
       "      <td>2</td>\n",
       "      <td>police</td>\n",
       "      <td>42.0850850729972</td>\n",
       "      <td>-71.01636127969894</td>\n",
       "      <td>Brockton Police Station</td>\n",
       "      <td>25023511000</td>\n",
       "      <td>safety_security</td>\n",
       "      <td>POINT (-71.01636127969894 42.0850850729972)</td>\n",
       "      <td>2</td>\n",
       "    </tr>\n",
       "    <tr>\n",
       "      <th>3</th>\n",
       "      <td>3</td>\n",
       "      <td>police</td>\n",
       "      <td>41.94388431068314</td>\n",
       "      <td>-70.95607348025773</td>\n",
       "      <td>Bridgewater Correctional Complex</td>\n",
       "      <td>25023525300</td>\n",
       "      <td>safety_security</td>\n",
       "      <td>POINT (-70.95607348025773 41.94388431068314)</td>\n",
       "      <td>2</td>\n",
       "    </tr>\n",
       "    <tr>\n",
       "      <th>4</th>\n",
       "      <td>4</td>\n",
       "      <td>police</td>\n",
       "      <td>42.07482152251891</td>\n",
       "      <td>-71.25864413985632</td>\n",
       "      <td>Foxborough Public Safety Building</td>\n",
       "      <td>25021410100</td>\n",
       "      <td>safety_security</td>\n",
       "      <td>POINT (-71.25864413985632 42.07482152251891)</td>\n",
       "      <td>2</td>\n",
       "    </tr>\n",
       "  </tbody>\n",
       "</table>\n",
       "</div>"
      ],
      "text/plain": [
       "  field_1 category                lat                long  \\\n",
       "0       0   police  42.16724517340408  -71.35879082837904   \n",
       "1       1   police  41.90084023770307  -71.08901583982912   \n",
       "2       2   police   42.0850850729972  -71.01636127969894   \n",
       "3       3   police  41.94388431068314  -70.95607348025773   \n",
       "4       4   police  42.07482152251891  -71.25864413985632   \n",
       "\n",
       "                                name         FIPS         lifeline  \\\n",
       "0              Millis Police Station  25021407100  safety_security   \n",
       "1          Taunton Police Department  25005613800  safety_security   \n",
       "2            Brockton Police Station  25023511000  safety_security   \n",
       "3   Bridgewater Correctional Complex  25023525300  safety_security   \n",
       "4  Foxborough Public Safety Building  25021410100  safety_security   \n",
       "\n",
       "                                       geometry  lifeline_numeric  \n",
       "0  POINT (-71.35879082837904 42.16724517340408)                 2  \n",
       "1  POINT (-71.08901583982912 41.90084023770307)                 2  \n",
       "2   POINT (-71.01636127969894 42.0850850729972)                 2  \n",
       "3  POINT (-70.95607348025773 41.94388431068314)                 2  \n",
       "4  POINT (-71.25864413985632 42.07482152251891)                 2  "
      ]
     },
     "execution_count": 9,
     "metadata": {},
     "output_type": "execute_result"
    }
   ],
   "source": [
    "lifeline.head()"
   ]
  },
  {
   "cell_type": "code",
   "execution_count": 10,
   "metadata": {},
   "outputs": [],
   "source": [
    "powergrid = gpd.read_file('Electric_Power_Transmission_Lines/')"
   ]
  },
  {
   "cell_type": "code",
   "execution_count": 11,
   "metadata": {},
   "outputs": [],
   "source": [
    "hazmat = gpd.read_file('hazmat_clean/')"
   ]
  },
  {
   "cell_type": "code",
   "execution_count": 14,
   "metadata": {},
   "outputs": [],
   "source": [
    "hazmat['type'] = 'hazmat'"
   ]
  },
  {
   "cell_type": "code",
   "execution_count": null,
   "metadata": {},
   "outputs": [],
   "source": [
    "powergrid.drop(index=378, inplace=True)"
   ]
  },
  {
   "cell_type": "code",
   "execution_count": 16,
   "metadata": {},
   "outputs": [],
   "source": [
    "census.fillna(0, inplace=True)"
   ]
  },
  {
   "cell_type": "code",
   "execution_count": 10,
   "metadata": {},
   "outputs": [
    {
     "name": "stdout",
     "output_type": "stream",
     "text": [
      "0\n",
      "2\n",
      "9\n",
      "212\n",
      "216\n",
      "221\n",
      "222\n",
      "227\n",
      "285\n",
      "286\n",
      "452\n",
      "730\n",
      "791\n",
      "914\n",
      "983\n",
      "984\n",
      "986\n",
      "1349\n",
      "1453\n"
     ]
    }
   ],
   "source": [
    "for i in range(len(census)):\n",
    "    if 'multi' in str(type(census['geometry'][i])):\n",
    "        print(i)"
   ]
  },
  {
   "cell_type": "code",
   "execution_count": 31,
   "metadata": {},
   "outputs": [],
   "source": [
    "a, b, c = list(census['geometry'][0])"
   ]
  },
  {
   "cell_type": "code",
   "execution_count": 17,
   "metadata": {},
   "outputs": [],
   "source": [
    "multipolygon = [0,2,9,212,216,221,222,227,285,286,452,730,791,914,983,984,986,1349,1453]"
   ]
  },
  {
   "cell_type": "code",
   "execution_count": 42,
   "metadata": {},
   "outputs": [
    {
     "data": {
      "text/html": [
       "<div>\n",
       "<style scoped>\n",
       "    .dataframe tbody tr th:only-of-type {\n",
       "        vertical-align: middle;\n",
       "    }\n",
       "\n",
       "    .dataframe tbody tr th {\n",
       "        vertical-align: top;\n",
       "    }\n",
       "\n",
       "    .dataframe thead th {\n",
       "        text-align: right;\n",
       "    }\n",
       "</style>\n",
       "<table border=\"1\" class=\"dataframe\">\n",
       "  <thead>\n",
       "    <tr style=\"text-align: right;\">\n",
       "      <th></th>\n",
       "      <th>ST</th>\n",
       "      <th>STATE</th>\n",
       "      <th>ST_ABBR</th>\n",
       "      <th>STCNTY</th>\n",
       "      <th>COUNTY</th>\n",
       "      <th>FIPS</th>\n",
       "      <th>LOCATION</th>\n",
       "      <th>AREA_SQMI</th>\n",
       "      <th>E_TOTPOP</th>\n",
       "      <th>M_TOTPOP</th>\n",
       "      <th>...</th>\n",
       "      <th>hazmat_cou</th>\n",
       "      <th>safety_s_1</th>\n",
       "      <th>food_wat_1</th>\n",
       "      <th>transpor_1</th>\n",
       "      <th>health_m_1</th>\n",
       "      <th>resource</th>\n",
       "      <th>risk</th>\n",
       "      <th>geometry</th>\n",
       "      <th>x</th>\n",
       "      <th>y</th>\n",
       "    </tr>\n",
       "  </thead>\n",
       "  <tbody>\n",
       "    <tr>\n",
       "      <th>1</th>\n",
       "      <td>25</td>\n",
       "      <td>MASSACHUSETTS</td>\n",
       "      <td>MA</td>\n",
       "      <td>25005</td>\n",
       "      <td>Bristol</td>\n",
       "      <td>25005990000</td>\n",
       "      <td>Census Tract 9900, Bristol County, Massachusetts</td>\n",
       "      <td>0.000000</td>\n",
       "      <td>0.0</td>\n",
       "      <td>12.0</td>\n",
       "      <td>...</td>\n",
       "      <td>0.0</td>\n",
       "      <td>0.000000</td>\n",
       "      <td>0.000000</td>\n",
       "      <td>0.0</td>\n",
       "      <td>0</td>\n",
       "      <td>0.000000</td>\n",
       "      <td>0.000000</td>\n",
       "      <td>POLYGON ((-70.94865099999998 41.58406000000008...</td>\n",
       "      <td>[-70.94865099999998, -70.94657999999998, -70.9...</td>\n",
       "      <td>[41.58406000000008, 41.58412500000003, 41.5841...</td>\n",
       "    </tr>\n",
       "    <tr>\n",
       "      <th>3</th>\n",
       "      <td>25</td>\n",
       "      <td>MASSACHUSETTS</td>\n",
       "      <td>MA</td>\n",
       "      <td>25017</td>\n",
       "      <td>Middlesex</td>\n",
       "      <td>25017980000</td>\n",
       "      <td>Census Tract 9800, Middlesex County, Massachus...</td>\n",
       "      <td>1.485656</td>\n",
       "      <td>0.0</td>\n",
       "      <td>12.0</td>\n",
       "      <td>...</td>\n",
       "      <td>0.0</td>\n",
       "      <td>0.000000</td>\n",
       "      <td>0.000000</td>\n",
       "      <td>0.0</td>\n",
       "      <td>0</td>\n",
       "      <td>0.000000</td>\n",
       "      <td>0.000000</td>\n",
       "      <td>POLYGON ((-71.49661399999997 42.41467300000005...</td>\n",
       "      <td>[-71.49661399999997, -71.48626199999995, -71.4...</td>\n",
       "      <td>[42.41467300000005, 42.41631000000007, 42.4200...</td>\n",
       "    </tr>\n",
       "    <tr>\n",
       "      <th>4</th>\n",
       "      <td>25</td>\n",
       "      <td>MASSACHUSETTS</td>\n",
       "      <td>MA</td>\n",
       "      <td>25025</td>\n",
       "      <td>Suffolk</td>\n",
       "      <td>25025981000</td>\n",
       "      <td>Census Tract 9810, Suffolk County, Massachusetts</td>\n",
       "      <td>0.434872</td>\n",
       "      <td>0.0</td>\n",
       "      <td>12.0</td>\n",
       "      <td>...</td>\n",
       "      <td>0.0</td>\n",
       "      <td>0.000000</td>\n",
       "      <td>0.000000</td>\n",
       "      <td>0.0</td>\n",
       "      <td>0</td>\n",
       "      <td>0.000000</td>\n",
       "      <td>0.000000</td>\n",
       "      <td>POLYGON ((-71.13060599999994 42.29437700000005...</td>\n",
       "      <td>[-71.13060599999994, -71.12932599999993, -71.1...</td>\n",
       "      <td>[42.294377000000054, 42.296497000000045, 42.29...</td>\n",
       "    </tr>\n",
       "    <tr>\n",
       "      <th>5</th>\n",
       "      <td>25</td>\n",
       "      <td>MASSACHUSETTS</td>\n",
       "      <td>MA</td>\n",
       "      <td>25025</td>\n",
       "      <td>Suffolk</td>\n",
       "      <td>25025981201</td>\n",
       "      <td>Census Tract 9812.01, Suffolk County, Massachu...</td>\n",
       "      <td>0.303725</td>\n",
       "      <td>0.0</td>\n",
       "      <td>12.0</td>\n",
       "      <td>...</td>\n",
       "      <td>0.0</td>\n",
       "      <td>0.000000</td>\n",
       "      <td>0.000000</td>\n",
       "      <td>0.0</td>\n",
       "      <td>0</td>\n",
       "      <td>0.000000</td>\n",
       "      <td>0.000000</td>\n",
       "      <td>POLYGON ((-71.05262399999998 42.32859700000006...</td>\n",
       "      <td>[-71.05262399999998, -71.05250099999995, -71.0...</td>\n",
       "      <td>[42.32859700000006, 42.32914200000005, 42.3298...</td>\n",
       "    </tr>\n",
       "    <tr>\n",
       "      <th>6</th>\n",
       "      <td>25</td>\n",
       "      <td>MASSACHUSETTS</td>\n",
       "      <td>MA</td>\n",
       "      <td>25025</td>\n",
       "      <td>Suffolk</td>\n",
       "      <td>25025981501</td>\n",
       "      <td>Census Tract 9815.01, Suffolk County, Massachu...</td>\n",
       "      <td>0.353232</td>\n",
       "      <td>0.0</td>\n",
       "      <td>12.0</td>\n",
       "      <td>...</td>\n",
       "      <td>0.0</td>\n",
       "      <td>0.000000</td>\n",
       "      <td>0.000000</td>\n",
       "      <td>0.0</td>\n",
       "      <td>0</td>\n",
       "      <td>0.000000</td>\n",
       "      <td>0.000000</td>\n",
       "      <td>POLYGON ((-71.16762499999999 42.36007300000006...</td>\n",
       "      <td>[-71.16762499999999, -71.16371599999997, -71.1...</td>\n",
       "      <td>[42.36007300000006, 42.35824900000006, 42.3592...</td>\n",
       "    </tr>\n",
       "    <tr>\n",
       "      <th>7</th>\n",
       "      <td>25</td>\n",
       "      <td>MASSACHUSETTS</td>\n",
       "      <td>MA</td>\n",
       "      <td>25025</td>\n",
       "      <td>Suffolk</td>\n",
       "      <td>25025981600</td>\n",
       "      <td>Census Tract 9816, Suffolk County, Massachusetts</td>\n",
       "      <td>0.226634</td>\n",
       "      <td>0.0</td>\n",
       "      <td>12.0</td>\n",
       "      <td>...</td>\n",
       "      <td>0.0</td>\n",
       "      <td>0.000000</td>\n",
       "      <td>0.000000</td>\n",
       "      <td>0.0</td>\n",
       "      <td>0</td>\n",
       "      <td>0.000000</td>\n",
       "      <td>0.000000</td>\n",
       "      <td>POLYGON ((-70.99938799999995 42.38833100000005...</td>\n",
       "      <td>[-70.99938799999995, -70.99534699999998, -70.9...</td>\n",
       "      <td>[42.38833100000005, 42.38936200000006, 42.3902...</td>\n",
       "    </tr>\n",
       "    <tr>\n",
       "      <th>8</th>\n",
       "      <td>25</td>\n",
       "      <td>MASSACHUSETTS</td>\n",
       "      <td>MA</td>\n",
       "      <td>25025</td>\n",
       "      <td>Suffolk</td>\n",
       "      <td>25025981700</td>\n",
       "      <td>Census Tract 9817, Suffolk County, Massachusetts</td>\n",
       "      <td>0.121146</td>\n",
       "      <td>0.0</td>\n",
       "      <td>12.0</td>\n",
       "      <td>...</td>\n",
       "      <td>0.0</td>\n",
       "      <td>0.000000</td>\n",
       "      <td>0.000000</td>\n",
       "      <td>0.0</td>\n",
       "      <td>0</td>\n",
       "      <td>0.000000</td>\n",
       "      <td>0.000000</td>\n",
       "      <td>POLYGON ((-71.07256399999994 42.35543900000005...</td>\n",
       "      <td>[-71.07256399999994, -71.07129599999996, -71.0...</td>\n",
       "      <td>[42.35543900000005, 42.35577100000006, 42.3566...</td>\n",
       "    </tr>\n",
       "    <tr>\n",
       "      <th>1132</th>\n",
       "      <td>25</td>\n",
       "      <td>MASSACHUSETTS</td>\n",
       "      <td>MA</td>\n",
       "      <td>25025</td>\n",
       "      <td>Suffolk</td>\n",
       "      <td>25025120600</td>\n",
       "      <td>Census Tract 1206, Suffolk County, Massachusetts</td>\n",
       "      <td>0.099696</td>\n",
       "      <td>2407.0</td>\n",
       "      <td>217.0</td>\n",
       "      <td>...</td>\n",
       "      <td>0.0</td>\n",
       "      <td>0.000000</td>\n",
       "      <td>0.000000</td>\n",
       "      <td>0.0</td>\n",
       "      <td>0</td>\n",
       "      <td>0.000000</td>\n",
       "      <td>0.000000</td>\n",
       "      <td>POLYGON ((-71.11166899999995 42.31954000000007...</td>\n",
       "      <td>[-71.11166899999995, -71.11069299999997, -71.1...</td>\n",
       "      <td>[42.319540000000075, 42.320753000000025, 42.32...</td>\n",
       "    </tr>\n",
       "    <tr>\n",
       "      <th>1170</th>\n",
       "      <td>25</td>\n",
       "      <td>MASSACHUSETTS</td>\n",
       "      <td>MA</td>\n",
       "      <td>25025</td>\n",
       "      <td>Suffolk</td>\n",
       "      <td>25025980700</td>\n",
       "      <td>Census Tract 9807, Suffolk County, Massachusetts</td>\n",
       "      <td>1.115037</td>\n",
       "      <td>11.0</td>\n",
       "      <td>8.0</td>\n",
       "      <td>...</td>\n",
       "      <td>0.0</td>\n",
       "      <td>0.000000</td>\n",
       "      <td>0.250000</td>\n",
       "      <td>0.0</td>\n",
       "      <td>0</td>\n",
       "      <td>0.250000</td>\n",
       "      <td>-0.250000</td>\n",
       "      <td>POLYGON ((-71.14728899999994 42.26999400000005...</td>\n",
       "      <td>[-71.14728899999994, -71.14366399999994, -71.1...</td>\n",
       "      <td>[42.269994000000054, 42.27284700000007, 42.275...</td>\n",
       "    </tr>\n",
       "    <tr>\n",
       "      <th>1371</th>\n",
       "      <td>25</td>\n",
       "      <td>MASSACHUSETTS</td>\n",
       "      <td>MA</td>\n",
       "      <td>25015</td>\n",
       "      <td>Hampshire</td>\n",
       "      <td>25015820802</td>\n",
       "      <td>Census Tract 8208.02, Hampshire County, Massac...</td>\n",
       "      <td>0.270700</td>\n",
       "      <td>1182.0</td>\n",
       "      <td>205.0</td>\n",
       "      <td>...</td>\n",
       "      <td>0.0</td>\n",
       "      <td>0.000000</td>\n",
       "      <td>0.000565</td>\n",
       "      <td>0.0</td>\n",
       "      <td>0</td>\n",
       "      <td>0.000565</td>\n",
       "      <td>-0.000565</td>\n",
       "      <td>POLYGON ((-72.53640599999994 42.32625400000006...</td>\n",
       "      <td>[-72.53640599999994, -72.53525899999994, -72.5...</td>\n",
       "      <td>[42.32625400000006, 42.32884700000005, 42.3296...</td>\n",
       "    </tr>\n",
       "    <tr>\n",
       "      <th>1421</th>\n",
       "      <td>25</td>\n",
       "      <td>MASSACHUSETTS</td>\n",
       "      <td>MA</td>\n",
       "      <td>25023</td>\n",
       "      <td>Plymouth</td>\n",
       "      <td>25023525300</td>\n",
       "      <td>Census Tract 5253, Plymouth County, Massachusetts</td>\n",
       "      <td>2.687095</td>\n",
       "      <td>1851.0</td>\n",
       "      <td>276.0</td>\n",
       "      <td>...</td>\n",
       "      <td>0.0</td>\n",
       "      <td>0.006847</td>\n",
       "      <td>0.000000</td>\n",
       "      <td>0.0</td>\n",
       "      <td>0</td>\n",
       "      <td>0.006847</td>\n",
       "      <td>-0.006847</td>\n",
       "      <td>POLYGON ((-70.96832199999994 41.94875400000006...</td>\n",
       "      <td>[-70.96832199999994, -70.96385799999996, -70.9...</td>\n",
       "      <td>[41.948754000000065, 41.95080400000006, 41.952...</td>\n",
       "    </tr>\n",
       "    <tr>\n",
       "      <th>1454</th>\n",
       "      <td>25</td>\n",
       "      <td>MASSACHUSETTS</td>\n",
       "      <td>MA</td>\n",
       "      <td>25025</td>\n",
       "      <td>Suffolk</td>\n",
       "      <td>25025980300</td>\n",
       "      <td>Census Tract 9803, Suffolk County, Massachusetts</td>\n",
       "      <td>0.801670</td>\n",
       "      <td>383.0</td>\n",
       "      <td>220.0</td>\n",
       "      <td>...</td>\n",
       "      <td>0.0</td>\n",
       "      <td>0.000000</td>\n",
       "      <td>0.000000</td>\n",
       "      <td>0.0</td>\n",
       "      <td>0</td>\n",
       "      <td>0.000000</td>\n",
       "      <td>0.000000</td>\n",
       "      <td>POLYGON ((-71.10665499999993 42.30088000000006...</td>\n",
       "      <td>[-71.10665499999993, -71.10433499999994, -71.1...</td>\n",
       "      <td>[42.30088000000006, 42.30276300000003, 42.3052...</td>\n",
       "    </tr>\n",
       "    <tr>\n",
       "      <th>1456</th>\n",
       "      <td>25</td>\n",
       "      <td>MASSACHUSETTS</td>\n",
       "      <td>MA</td>\n",
       "      <td>25025</td>\n",
       "      <td>Suffolk</td>\n",
       "      <td>25025981202</td>\n",
       "      <td>Census Tract 9812.02, Suffolk County, Massachu...</td>\n",
       "      <td>0.655004</td>\n",
       "      <td>195.0</td>\n",
       "      <td>100.0</td>\n",
       "      <td>...</td>\n",
       "      <td>0.0</td>\n",
       "      <td>0.000000</td>\n",
       "      <td>0.000000</td>\n",
       "      <td>0.0</td>\n",
       "      <td>0</td>\n",
       "      <td>0.000000</td>\n",
       "      <td>0.000000</td>\n",
       "      <td>POLYGON ((-71.04707199999996 42.33970100000005...</td>\n",
       "      <td>[-71.04707199999996, -71.04140599999994, -71.0...</td>\n",
       "      <td>[42.33970100000005, 42.34452600000003, 42.3444...</td>\n",
       "    </tr>\n",
       "    <tr>\n",
       "      <th>1465</th>\n",
       "      <td>25</td>\n",
       "      <td>MASSACHUSETTS</td>\n",
       "      <td>MA</td>\n",
       "      <td>25027</td>\n",
       "      <td>Worcester</td>\n",
       "      <td>25027731202</td>\n",
       "      <td>Census Tract 7312.02, Worcester County, Massac...</td>\n",
       "      <td>0.038301</td>\n",
       "      <td>1510.0</td>\n",
       "      <td>234.0</td>\n",
       "      <td>...</td>\n",
       "      <td>0.0</td>\n",
       "      <td>0.000000</td>\n",
       "      <td>0.000063</td>\n",
       "      <td>0.0</td>\n",
       "      <td>0</td>\n",
       "      <td>0.000063</td>\n",
       "      <td>-0.000063</td>\n",
       "      <td>POLYGON ((-71.82592599999998 42.25128800000005...</td>\n",
       "      <td>[-71.82592599999998, -71.82319099999995, -71.8...</td>\n",
       "      <td>[42.251288000000045, 42.25370300000003, 42.253...</td>\n",
       "    </tr>\n",
       "  </tbody>\n",
       "</table>\n",
       "<p>14 rows × 139 columns</p>\n",
       "</div>"
      ],
      "text/plain": [
       "      ST          STATE ST_ABBR STCNTY     COUNTY         FIPS  \\\n",
       "1     25  MASSACHUSETTS      MA  25005    Bristol  25005990000   \n",
       "3     25  MASSACHUSETTS      MA  25017  Middlesex  25017980000   \n",
       "4     25  MASSACHUSETTS      MA  25025    Suffolk  25025981000   \n",
       "5     25  MASSACHUSETTS      MA  25025    Suffolk  25025981201   \n",
       "6     25  MASSACHUSETTS      MA  25025    Suffolk  25025981501   \n",
       "7     25  MASSACHUSETTS      MA  25025    Suffolk  25025981600   \n",
       "8     25  MASSACHUSETTS      MA  25025    Suffolk  25025981700   \n",
       "1132  25  MASSACHUSETTS      MA  25025    Suffolk  25025120600   \n",
       "1170  25  MASSACHUSETTS      MA  25025    Suffolk  25025980700   \n",
       "1371  25  MASSACHUSETTS      MA  25015  Hampshire  25015820802   \n",
       "1421  25  MASSACHUSETTS      MA  25023   Plymouth  25023525300   \n",
       "1454  25  MASSACHUSETTS      MA  25025    Suffolk  25025980300   \n",
       "1456  25  MASSACHUSETTS      MA  25025    Suffolk  25025981202   \n",
       "1465  25  MASSACHUSETTS      MA  25027  Worcester  25027731202   \n",
       "\n",
       "                                               LOCATION  AREA_SQMI  E_TOTPOP  \\\n",
       "1      Census Tract 9900, Bristol County, Massachusetts   0.000000       0.0   \n",
       "3     Census Tract 9800, Middlesex County, Massachus...   1.485656       0.0   \n",
       "4      Census Tract 9810, Suffolk County, Massachusetts   0.434872       0.0   \n",
       "5     Census Tract 9812.01, Suffolk County, Massachu...   0.303725       0.0   \n",
       "6     Census Tract 9815.01, Suffolk County, Massachu...   0.353232       0.0   \n",
       "7      Census Tract 9816, Suffolk County, Massachusetts   0.226634       0.0   \n",
       "8      Census Tract 9817, Suffolk County, Massachusetts   0.121146       0.0   \n",
       "1132   Census Tract 1206, Suffolk County, Massachusetts   0.099696    2407.0   \n",
       "1170   Census Tract 9807, Suffolk County, Massachusetts   1.115037      11.0   \n",
       "1371  Census Tract 8208.02, Hampshire County, Massac...   0.270700    1182.0   \n",
       "1421  Census Tract 5253, Plymouth County, Massachusetts   2.687095    1851.0   \n",
       "1454   Census Tract 9803, Suffolk County, Massachusetts   0.801670     383.0   \n",
       "1456  Census Tract 9812.02, Suffolk County, Massachu...   0.655004     195.0   \n",
       "1465  Census Tract 7312.02, Worcester County, Massac...   0.038301    1510.0   \n",
       "\n",
       "      M_TOTPOP  ...  hazmat_cou  safety_s_1  food_wat_1  transpor_1  \\\n",
       "1         12.0  ...         0.0    0.000000    0.000000         0.0   \n",
       "3         12.0  ...         0.0    0.000000    0.000000         0.0   \n",
       "4         12.0  ...         0.0    0.000000    0.000000         0.0   \n",
       "5         12.0  ...         0.0    0.000000    0.000000         0.0   \n",
       "6         12.0  ...         0.0    0.000000    0.000000         0.0   \n",
       "7         12.0  ...         0.0    0.000000    0.000000         0.0   \n",
       "8         12.0  ...         0.0    0.000000    0.000000         0.0   \n",
       "1132     217.0  ...         0.0    0.000000    0.000000         0.0   \n",
       "1170       8.0  ...         0.0    0.000000    0.250000         0.0   \n",
       "1371     205.0  ...         0.0    0.000000    0.000565         0.0   \n",
       "1421     276.0  ...         0.0    0.006847    0.000000         0.0   \n",
       "1454     220.0  ...         0.0    0.000000    0.000000         0.0   \n",
       "1456     100.0  ...         0.0    0.000000    0.000000         0.0   \n",
       "1465     234.0  ...         0.0    0.000000    0.000063         0.0   \n",
       "\n",
       "      health_m_1  resource      risk  \\\n",
       "1              0  0.000000  0.000000   \n",
       "3              0  0.000000  0.000000   \n",
       "4              0  0.000000  0.000000   \n",
       "5              0  0.000000  0.000000   \n",
       "6              0  0.000000  0.000000   \n",
       "7              0  0.000000  0.000000   \n",
       "8              0  0.000000  0.000000   \n",
       "1132           0  0.000000  0.000000   \n",
       "1170           0  0.250000 -0.250000   \n",
       "1371           0  0.000565 -0.000565   \n",
       "1421           0  0.006847 -0.006847   \n",
       "1454           0  0.000000  0.000000   \n",
       "1456           0  0.000000  0.000000   \n",
       "1465           0  0.000063 -0.000063   \n",
       "\n",
       "                                               geometry  \\\n",
       "1     POLYGON ((-70.94865099999998 41.58406000000008...   \n",
       "3     POLYGON ((-71.49661399999997 42.41467300000005...   \n",
       "4     POLYGON ((-71.13060599999994 42.29437700000005...   \n",
       "5     POLYGON ((-71.05262399999998 42.32859700000006...   \n",
       "6     POLYGON ((-71.16762499999999 42.36007300000006...   \n",
       "7     POLYGON ((-70.99938799999995 42.38833100000005...   \n",
       "8     POLYGON ((-71.07256399999994 42.35543900000005...   \n",
       "1132  POLYGON ((-71.11166899999995 42.31954000000007...   \n",
       "1170  POLYGON ((-71.14728899999994 42.26999400000005...   \n",
       "1371  POLYGON ((-72.53640599999994 42.32625400000006...   \n",
       "1421  POLYGON ((-70.96832199999994 41.94875400000006...   \n",
       "1454  POLYGON ((-71.10665499999993 42.30088000000006...   \n",
       "1456  POLYGON ((-71.04707199999996 42.33970100000005...   \n",
       "1465  POLYGON ((-71.82592599999998 42.25128800000005...   \n",
       "\n",
       "                                                      x  \\\n",
       "1     [-70.94865099999998, -70.94657999999998, -70.9...   \n",
       "3     [-71.49661399999997, -71.48626199999995, -71.4...   \n",
       "4     [-71.13060599999994, -71.12932599999993, -71.1...   \n",
       "5     [-71.05262399999998, -71.05250099999995, -71.0...   \n",
       "6     [-71.16762499999999, -71.16371599999997, -71.1...   \n",
       "7     [-70.99938799999995, -70.99534699999998, -70.9...   \n",
       "8     [-71.07256399999994, -71.07129599999996, -71.0...   \n",
       "1132  [-71.11166899999995, -71.11069299999997, -71.1...   \n",
       "1170  [-71.14728899999994, -71.14366399999994, -71.1...   \n",
       "1371  [-72.53640599999994, -72.53525899999994, -72.5...   \n",
       "1421  [-70.96832199999994, -70.96385799999996, -70.9...   \n",
       "1454  [-71.10665499999993, -71.10433499999994, -71.1...   \n",
       "1456  [-71.04707199999996, -71.04140599999994, -71.0...   \n",
       "1465  [-71.82592599999998, -71.82319099999995, -71.8...   \n",
       "\n",
       "                                                      y  \n",
       "1     [41.58406000000008, 41.58412500000003, 41.5841...  \n",
       "3     [42.41467300000005, 42.41631000000007, 42.4200...  \n",
       "4     [42.294377000000054, 42.296497000000045, 42.29...  \n",
       "5     [42.32859700000006, 42.32914200000005, 42.3298...  \n",
       "6     [42.36007300000006, 42.35824900000006, 42.3592...  \n",
       "7     [42.38833100000005, 42.38936200000006, 42.3902...  \n",
       "8     [42.35543900000005, 42.35577100000006, 42.3566...  \n",
       "1132  [42.319540000000075, 42.320753000000025, 42.32...  \n",
       "1170  [42.269994000000054, 42.27284700000007, 42.275...  \n",
       "1371  [42.32625400000006, 42.32884700000005, 42.3296...  \n",
       "1421  [41.948754000000065, 41.95080400000006, 41.952...  \n",
       "1454  [42.30088000000006, 42.30276300000003, 42.3052...  \n",
       "1456  [42.33970100000005, 42.34452600000003, 42.3444...  \n",
       "1465  [42.251288000000045, 42.25370300000003, 42.253...  \n",
       "\n",
       "[14 rows x 139 columns]"
      ]
     },
     "execution_count": 42,
     "metadata": {},
     "output_type": "execute_result"
    }
   ],
   "source": [
    "census[census['RPL_THEMES'] == 0]"
   ]
  },
  {
   "cell_type": "code",
   "execution_count": 159,
   "metadata": {},
   "outputs": [],
   "source": [
    "# for i in multipolygon:\n",
    "#     number = range(len(census['geometry'][i]))\n",
    "# #     print(number)\n",
    "#     for j in number:\n",
    "#         length = len(census)\n",
    "#         census = census.append(census.iloc[i], ignore_index=True)\n",
    "#         census.iloc[length-1]['geometry'] = census['geometry'][i][j]\n",
    "#         print(census['geometry'][i][j])"
   ]
  },
  {
   "cell_type": "code",
   "execution_count": 18,
   "metadata": {},
   "outputs": [],
   "source": [
    "census.drop(multipolygon, inplace=True)"
   ]
  },
  {
   "cell_type": "code",
   "execution_count": 123,
   "metadata": {},
   "outputs": [],
   "source": [
    "def split_polygon(df, target):\n",
    "    for i in target:\n",
    "        number = range(len(df['geometry'][i]))\n",
    "        for j in number:\n",
    "            length = len(df)\n",
    "            df = df.append(df.iloc[i], ignore_index=True)\n",
    "            df.iloc[length-1]['geometry'] = df['geometry'][i][j]"
   ]
  },
  {
   "cell_type": "code",
   "execution_count": 124,
   "metadata": {
    "scrolled": false
   },
   "outputs": [
    {
     "name": "stderr",
     "output_type": "stream",
     "text": [
      "/anaconda3/lib/python3.6/site-packages/ipykernel_launcher.py:7: SettingWithCopyWarning: \n",
      "A value is trying to be set on a copy of a slice from a DataFrame\n",
      "\n",
      "See the caveats in the documentation: http://pandas.pydata.org/pandas-docs/stable/indexing.html#indexing-view-versus-copy\n",
      "  import sys\n"
     ]
    }
   ],
   "source": [
    "split_polygon(census, multipolygon)"
   ]
  },
  {
   "cell_type": "code",
   "execution_count": 19,
   "metadata": {},
   "outputs": [],
   "source": [
    "def getPointCoords(row, geom, coord_type):\n",
    "    \"\"\"Calculates coordinates ('x' or 'y') of a Point geometry\"\"\"\n",
    "    if coord_type == 'x':\n",
    "        return row[geom].x\n",
    "    elif coord_type == 'y':\n",
    "        return row[geom].y"
   ]
  },
  {
   "cell_type": "code",
   "execution_count": 20,
   "metadata": {},
   "outputs": [],
   "source": [
    "hazmat['x'] = hazmat.apply(getPointCoords, geom='geometry', coord_type='x', axis=1)\n",
    "hazmat['y'] = hazmat.apply(getPointCoords, geom='geometry', coord_type='y', axis=1)\n",
    "lifeline['x'] = lifeline.apply(getPointCoords, geom='geometry', coord_type='x', axis=1)\n",
    "lifeline['y'] = lifeline.apply(getPointCoords, geom='geometry', coord_type='y', axis=1)"
   ]
  },
  {
   "cell_type": "code",
   "execution_count": 21,
   "metadata": {},
   "outputs": [],
   "source": [
    "def getLineCoords(row, geom, coord_type):\n",
    "    \"\"\"Returns a list of coordinates ('x' or 'y') of a LineString geometry\"\"\"\n",
    "    if coord_type == 'x':\n",
    "        return list( row[geom].coords.xy[0] )\n",
    "    elif coord_type == 'y':\n",
    "        return list( row[geom].coords.xy[1] )"
   ]
  },
  {
   "cell_type": "code",
   "execution_count": 22,
   "metadata": {},
   "outputs": [],
   "source": [
    "powergrid['x'] = powergrid.apply(getLineCoords, geom='geometry', coord_type='x', axis=1)\n",
    "powergrid['y'] = powergrid.apply(getLineCoords, geom='geometry', coord_type='y', axis=1)"
   ]
  },
  {
   "cell_type": "code",
   "execution_count": 23,
   "metadata": {},
   "outputs": [],
   "source": [
    "def getPolyCoords(row, geom, coord_type):\n",
    "    \"\"\"Returns the coordinates ('x' or 'y') of edges of a Polygon exterior\"\"\"\n",
    "\n",
    "    # Parse the exterior of the coordinate\n",
    "    exterior = row[geom].exterior\n",
    "\n",
    "    if coord_type == 'x':\n",
    "        # Get the x coordinates of the exterior\n",
    "        return list( exterior.coords.xy[0] )\n",
    "    elif coord_type == 'y':\n",
    "        # Get the y coordinates of the exterior\n",
    "        return list( exterior.coords.xy[1] )"
   ]
  },
  {
   "cell_type": "code",
   "execution_count": 24,
   "metadata": {},
   "outputs": [],
   "source": [
    "census['x'] = census.apply(getPolyCoords, geom='geometry', coord_type='x', axis=1)\n",
    "census['y'] = census.apply(getPolyCoords, geom='geometry', coord_type='y', axis=1)"
   ]
  },
  {
   "cell_type": "markdown",
   "metadata": {},
   "source": [
    "# Bokeh Plotting"
   ]
  },
  {
   "cell_type": "markdown",
   "metadata": {},
   "source": [
    "## Risk and Resources"
   ]
  },
  {
   "cell_type": "code",
   "execution_count": 244,
   "metadata": {},
   "outputs": [],
   "source": [
    "pointsource = ColumnDataSource(lifeline.drop(columns='geometry'))\n",
    "mapsource = ColumnDataSource(census.drop(columns='geometry'))\n",
    "hazmatsource = ColumnDataSource(hazmat.drop(columns='geometry'))\n",
    "# gridsource = ColumnDataSource(powergrid.drop(columns='geometry'))\n",
    "\n",
    "mass = figure(plot_width=950, plot_height=600, title=\"Massachusetts Risk Assessment\")\n",
    "\n",
    "base = mass.patches('x', 'y', source=mapsource,\n",
    "             fill_color=linear_cmap('risk', ['#fcfbfd','#efedf5','#dadaeb','#bcbddc','#9e9ac8','#807dba','#6a51a3','#54278f','#3f007d'], \n",
    "                                    min(census['risk']), max(census['risk'])),\n",
    "             fill_alpha=1.0, \n",
    "             line_color=\"black\", \n",
    "             line_width=0.05)\n",
    "\n",
    "# grid = mass.multi_line('x', 'y', source=gridsource, color='grey', line_width=2.5)\n",
    "\n",
    "waste = mass.circle('x', 'y', size=7, source=hazmatsource, color=\"#DFFF00\",\n",
    "                   line_color='black', legend='type')\n",
    "\n",
    "points = mass.circle('x', 'y', size=7, source=pointsource,\n",
    "                     line_color='white',\n",
    "                     color=linear_cmap('lifeline_numeric', \n",
    "                                       ['#009b5d','#0cf9f5','#b70707','#ffcf42' ], 1, 4),\n",
    "                    legend='lifeline')\n",
    "mass.legend.location = 'bottom_left'"
   ]
  },
  {
   "cell_type": "code",
   "execution_count": null,
   "metadata": {},
   "outputs": [],
   "source": []
  },
  {
   "cell_type": "code",
   "execution_count": null,
   "metadata": {},
   "outputs": [],
   "source": [
    "{'':}\n",
    "\n",
    "{'food_water_shelter' : 1,\n",
    "'safety_security' : 2,\n",
    "'health_medical' : 3,\n",
    "'transportation' : 4}"
   ]
  },
  {
   "cell_type": "code",
   "execution_count": 245,
   "metadata": {},
   "outputs": [],
   "source": [
    "base_hover = HoverTool(renderers=[base])\n",
    "point_hover = HoverTool(renderers=[points])\n",
    "hazmat_hover = HoverTool(renderers=[waste])\n",
    "# grid_hover = HoverTool(renderers=[grid])"
   ]
  },
  {
   "cell_type": "code",
   "execution_count": 246,
   "metadata": {},
   "outputs": [],
   "source": [
    "base_hover.tooltips = [('Risk', '@risk'),\n",
    "                     ('County', '@COUNTY'),\n",
    "                     ('Resource Score','@resource'),\n",
    "                       ('SVI','@RPL_THEMES'),\n",
    "                       ('Population','@E_TOTPOP'),\n",
    "                       \n",
    "                    ]"
   ]
  },
  {
   "cell_type": "code",
   "execution_count": 247,
   "metadata": {},
   "outputs": [],
   "source": [
    "point_hover.tooltips = [('Lifeline', '@lifeline'),\n",
    "                     ('Category', '@category'),\n",
    "                     ('Name','@name')\n",
    "                    ]"
   ]
  },
  {
   "cell_type": "code",
   "execution_count": 248,
   "metadata": {},
   "outputs": [],
   "source": [
    "hazmat_hover.tooltips = [('Address','@Hazardous')\n",
    "                    ]"
   ]
  },
  {
   "cell_type": "code",
   "execution_count": 249,
   "metadata": {},
   "outputs": [],
   "source": [
    "# grid_hover.tooltips = [('Type', '@TYPE')\n",
    "#                     ]"
   ]
  },
  {
   "cell_type": "code",
   "execution_count": 250,
   "metadata": {},
   "outputs": [],
   "source": [
    "mass.add_tools(base_hover, point_hover, hazmat_hover)"
   ]
  },
  {
   "cell_type": "code",
   "execution_count": 251,
   "metadata": {},
   "outputs": [],
   "source": [
    "show(mass)"
   ]
  },
  {
   "cell_type": "code",
   "execution_count": 252,
   "metadata": {},
   "outputs": [
    {
     "name": "stderr",
     "output_type": "stream",
     "text": [
      "/anaconda3/lib/python3.6/site-packages/bokeh/io/saving.py:126: UserWarning: save() called but no resources were supplied and output_file(...) was never called, defaulting to resources.CDN\n",
      "  warn(\"save() called but no resources were supplied and output_file(...) was never called, defaulting to resources.CDN\")\n",
      "/anaconda3/lib/python3.6/site-packages/bokeh/io/saving.py:139: UserWarning: save() called but no title was supplied and output_file(...) was never called, using default title 'Bokeh Plot'\n",
      "  warn(\"save() called but no title was supplied and output_file(...) was never called, using default title 'Bokeh Plot'\")\n"
     ]
    },
    {
     "data": {
      "text/plain": [
       "'/Users/micahluedtke/Documents/DSI-7/projects/project_4_real/mass.html'"
      ]
     },
     "execution_count": 252,
     "metadata": {},
     "output_type": "execute_result"
    }
   ],
   "source": [
    "save(obj=mass, filename='mass.html')"
   ]
  },
  {
   "cell_type": "markdown",
   "metadata": {},
   "source": [
    "## Risk Only"
   ]
  },
  {
   "cell_type": "code",
   "execution_count": 75,
   "metadata": {},
   "outputs": [],
   "source": [
    "newpalette = ['#a50026','#d73027','#f46d43','#fee08b','#d9ef8b','#66bd63','#1a9850','#006837','#004205']"
   ]
  },
  {
   "cell_type": "code",
   "execution_count": 76,
   "metadata": {},
   "outputs": [],
   "source": [
    "onlysource = ColumnDataSource(census.drop(columns='geometry'))\n",
    "\n",
    "\n",
    "only = figure(plot_width=950, plot_height=600, title=\"Massachusetts Risk\")\n",
    "\n",
    "basemap = only.patches('x', 'y', source=onlysource,\n",
    "             fill_color=linear_cmap('risk', newpalette[::-1], \n",
    "                                    min(census['risk']), max(census['risk'])),\n",
    "             fill_alpha=1.0, \n",
    "             line_color=\"black\", \n",
    "             line_width=0.05)\n"
   ]
  },
  {
   "cell_type": "code",
   "execution_count": 77,
   "metadata": {},
   "outputs": [],
   "source": [
    "basemap_hover = HoverTool(renderers=[basemap])"
   ]
  },
  {
   "cell_type": "code",
   "execution_count": 78,
   "metadata": {},
   "outputs": [],
   "source": [
    "basemap_hover.tooltips = [('Risk', '@risk'),\n",
    "                     ('County', '@COUNTY'),\n",
    "                     ('Resource Score','@resource'),\n",
    "                       ('SVI','@RPL_THEMES'),\n",
    "                       ('Population','@E_TOTPOP'),\n",
    "                       \n",
    "                    ]"
   ]
  },
  {
   "cell_type": "code",
   "execution_count": 79,
   "metadata": {},
   "outputs": [],
   "source": [
    "only.add_tools(basemap_hover)"
   ]
  },
  {
   "cell_type": "code",
   "execution_count": 80,
   "metadata": {},
   "outputs": [],
   "source": [
    "show(only)"
   ]
  },
  {
   "cell_type": "code",
   "execution_count": null,
   "metadata": {},
   "outputs": [],
   "source": [
    "save(obj=only, filename='riskonly.html')"
   ]
  }
 ],
 "metadata": {
  "kernelspec": {
   "display_name": "Python 3",
   "language": "python",
   "name": "python3"
  },
  "language_info": {
   "codemirror_mode": {
    "name": "ipython",
    "version": 3
   },
   "file_extension": ".py",
   "mimetype": "text/x-python",
   "name": "python",
   "nbconvert_exporter": "python",
   "pygments_lexer": "ipython3",
   "version": "3.6.8"
  }
 },
 "nbformat": 4,
 "nbformat_minor": 2
}
