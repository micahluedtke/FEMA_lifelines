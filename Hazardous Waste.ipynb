{
 "cells": [
  {
   "cell_type": "code",
   "execution_count": 1,
   "metadata": {},
   "outputs": [],
   "source": [
    "import pandas as pd\n",
    "import requests\n",
    "from bs4 import BeautifulSoup"
   ]
  },
  {
   "cell_type": "code",
   "execution_count": 2,
   "metadata": {},
   "outputs": [
    {
     "name": "stdout",
     "output_type": "stream",
     "text": [
      "200\n"
     ]
    }
   ],
   "source": [
    "url = 'https://www.mass.gov/guides/hazardous-waste-facilities-recyclers'\n",
    "res = requests.get(url)\n",
    "print(res.status_code)"
   ]
  },
  {
   "cell_type": "code",
   "execution_count": 3,
   "metadata": {},
   "outputs": [],
   "source": [
    "soup = BeautifulSoup(res.content, 'lxml')"
   ]
  },
  {
   "cell_type": "code",
   "execution_count": 4,
   "metadata": {},
   "outputs": [
    {
     "data": {
      "text/plain": [
       "[<table><caption><em>Licensed Hazardous Waste Facilities</em></caption>\n",
       " <thead><tr><th>MassDEP Central Region</th>\n",
       " <th>MassDEP Northeast Region</th>\n",
       " </tr></thead><tbody><tr><td><strong>Safety-Kleen Systems Inc.</strong><br/>\n",
       " \t\t\tEPA ID: MAD047075734<br/>\n",
       " \t\t\tLicense: #34B<br/>\n",
       " \t\t\t50A Brigham Street<br/>\n",
       " \t\t\tMarlborough, MA 01752<br/>\n",
       " \t\t\t508-481-3116</td>\n",
       " <td>\n",
       " <p><strong>Murphy's Waste Oil Storage Inc.</strong><br/>\n",
       " \t\t\tEPA ID: MAD066588005<br/>\n",
       " \t\t\tLicense: #23B<br/>\n",
       " \t\t\t252 Salem Street<br/>\n",
       " \t\t\tWoburn, MA 01801<br/>\n",
       " \t\t\t781-935-9066</p>\n",
       " </td>\n",
       " </tr><tr><td><strong>Safety-Kleen Systems Inc.</strong><br/>\n",
       " \t\t\tEPA ID: MAD096287354<br/>\n",
       " \t\t\tLicense: #29B<br/>\n",
       " \t\t\tRoute 9 <br/>\n",
       " \t\t\tWest Brookfield, MA 01585<br/>\n",
       " \t\t\t508-867-7184</td>\n",
       " <td><strong>Safety-Kleen Systems Inc.</strong><br/>\n",
       " \t\t\tEPA ID: MAD060095569<br/>\n",
       " \t\t\tLicense: #21B<br/>\n",
       " \t\t\t90 Rabbit Road<br/>\n",
       " \t\t\tSalisbury, MA 01952<br/>\n",
       " \t\t\t978-465-8900</td>\n",
       " </tr><tr><td><strong>Tradebe Northborough</strong><br/>\n",
       " \t\t\tEPA ID: MAD052924495<br/>\n",
       " \t\t\tLicense: #17B<br/>\n",
       " \t\t\t345 W. Main Street<br/>\n",
       " \t\t\tNorthborough, MA 01532<br/>\n",
       " \t\t\t508-351-9660</td>\n",
       " <td><strong>Trumvirate Environmental<br/>\n",
       " \t\t\t(Merrimack) Inc.  </strong><br/>\n",
       " \t\t\tEPA ID: MAD047075734<br/>\n",
       " \t\t\tLicense: #34B<br/>\n",
       " \t\t\t263 Howard Street<br/>\n",
       " \t\t\tLowell, MA 01851<br/>\n",
       " \t\t\t978-453-7772</td>\n",
       " </tr><tr></tr></tbody><thead><tr><th>MassDEP Southeast Region</th>\n",
       " <th>MassDEP Western Region</th>\n",
       " </tr></thead><tbody><tr><td><strong>Clean Harbors of Braintree Inc.</strong><br/>\n",
       " \t\t\tEPA ID: MAD053452637<br/>\n",
       " \t\t\tLicense: #5B<br/>\n",
       " \t\t\t385 Quincy Avenue<br/>\n",
       " \t\t\tBraintree, MA 02184<br/>\n",
       " \t\t\t781-380-7100</td>\n",
       " <td><strong>General Electric Co.*</strong><br/>\n",
       " \t\t\tEPA ID: MAD002084093<br/>\n",
       " \t\t\tLicense: #28<br/>\n",
       " \t\t\t100 Woodlawn Avenue<br/>\n",
       " \t\t\tPittsfield, MA 01201-3678<br/>\n",
       " \t\t\t413-448-5903</td>\n",
       " </tr><tr><td>\n",
       " <p><strong>Cyn Oil Corp.</strong><br/>\n",
       " \t\t\tEPA ID: MAD082303777<br/>\n",
       " \t\t\tLicense: #18B<br/>\n",
       " \t\t\t1771 Washington Street<br/>\n",
       " \t\t\tStoughton, MA 02072<br/>\n",
       " \t\t\t781-341-1777</p>\n",
       " </td>\n",
       " <td><strong>Solutia Inc.*</strong><br/>\n",
       " \t\t\tEPA ID: MAD001114818<br/>\n",
       " \t\t\tLicense: #36B<br/>\n",
       " \t\t\t730 Worcester Street<br/>\n",
       " \t\t\tIndian Orchard, MA 01157<br/>\n",
       " \t\t\t413-730-2300</td>\n",
       " </tr><tr><td><strong>Tradebe Treatment &amp; Recycling<br/>\n",
       " \t\t\tof Stoughton LLC</strong><br/>\n",
       " \t\t\tEPA ID: MAD062179890<br/>\n",
       " \t\t\tLicense: #31B<br/>\n",
       " \t\t\t441R Canton Street<br/>\n",
       " \t\t\tStoughton, MA 02072<br/>\n",
       " \t\t\t781-297-3530</td>\n",
       " <td> </td>\n",
       " </tr></tbody></table>,\n",
       " <table><caption><em>Permitted Hazardous Waste Recyclers</em></caption>\n",
       " <tbody><tr><td>\n",
       " <p><strong>Aggregate Industries</strong><br/>\n",
       " \t\t\t651 Lake Street<br/>\n",
       " \t\t\tShrewsbury, MA 01545</p>\n",
       " <p>Recycles: Petroleum-Contaminated Soil</p>\n",
       " </td>\n",
       " <td>\n",
       " <p><strong>Complete Recycling Solutions</strong><br/>\n",
       " \t\t\t1075 Airport Road<br/>\n",
       " \t\t\tFall River, MA 02723</p>\n",
       " <p>Recycles: Mercury-Containing Waste</p>\n",
       " </td>\n",
       " </tr><tr><td>\n",
       " <p><strong>Aggregate Industries</strong><br/>\n",
       " \t\t\t230 Great Western Road<br/>\n",
       " \t\t\tSouth Dennis, MA 02660</p>\n",
       " <p>Recycles: Petroleum-Contaminated Soil</p>\n",
       " </td>\n",
       " <td>\n",
       " <p><strong>Maxymillian Technologies Inc.</strong><br/>\n",
       " \t\t\t1801 East Street<br/>\n",
       " \t\t\tPittsfield, MA 01201</p>\n",
       " <p>Recycles: Petroleum-Contaminated Soil</p>\n",
       " </td>\n",
       " </tr><tr><td>\n",
       " <p><strong>Aggregate Industries</strong><br/>\n",
       " \t\t\t1101 Turnpike Street<br/>\n",
       " \t\t\tStoughton, MA 02072</p>\n",
       " <p>Recycles: Petroleum-Contaminated Soil</p>\n",
       " </td>\n",
       " <td>\n",
       " <p><strong>Ondrick Materials &amp; Recycling LLC</strong><br/>\n",
       " \t\t\t22 Industry Road<br/>\n",
       " \t\t\tChicopee, MA 01020</p>\n",
       " <p>Recycles: Petroleum-Contaminated Soil</p>\n",
       " </td>\n",
       " </tr><tr><td>\n",
       " <p><strong>Brox Industries Inc.</strong><br/>\n",
       " \t\t\t1471 Methuen Street<br/>\n",
       " \t\t\tDracut, MA 01826</p>\n",
       " <p>Recycles: Petroleum-Contaminated Soil (hot mix asphalt only)</p>\n",
       " </td>\n",
       " <td>\n",
       " <p><strong>Veolia ES Technical Solutions LLC</strong><br/>\n",
       " \t\t\t90 Pleasant Street<br/>\n",
       " \t\t\tWest Bridgewater, MA 02379</p>\n",
       " <p>Recycles: Mercury-Containing Waste</p>\n",
       " </td>\n",
       " </tr></tbody></table>,\n",
       " <table><thead><tr><th><strong>PLEASE NOTE:</strong> <span><span>EPA has moved the National Manifest Form to a new online system.</span></span> <span><span> <a href=\"https://www.epa.gov/e-manifest\">Learn more about e-Manifest</a>. See the EPA Fact Sheets for <a href=\"https://www.epa.gov/sites/production/files/2018-05/documents/e-manifest_tsdf_fact_sheet_0.pdf\">Treatment, Storage &amp; Disposal Facilities</a> and <a href=\"https://www.epa.gov/sites/production/files/2018-05/documents/e-manifest_receiving_facilities_fact_sheet_0.pdf\">Receiving Facilities</a>.</span></span></th>\n",
       " </tr></thead><tbody></tbody></table>]"
      ]
     },
     "execution_count": 4,
     "metadata": {},
     "output_type": "execute_result"
    }
   ],
   "source": [
    "soup.find_all('table')"
   ]
  },
  {
   "cell_type": "code",
   "execution_count": 5,
   "metadata": {},
   "outputs": [],
   "source": [
    "woopty = []\n",
    "for row in soup.find_all('table'):\n",
    "    woopty.append(row.find_all('td'))"
   ]
  },
  {
   "cell_type": "code",
   "execution_count": 6,
   "metadata": {},
   "outputs": [
    {
     "data": {
      "text/plain": [
       "<td>\n",
       "<p><strong>Aggregate Industries</strong><br/>\n",
       "\t\t\t651 Lake Street<br/>\n",
       "\t\t\tShrewsbury, MA 01545</p>\n",
       "<p>Recycles: Petroleum-Contaminated Soil</p>\n",
       "</td>"
      ]
     },
     "execution_count": 6,
     "metadata": {},
     "output_type": "execute_result"
    }
   ],
   "source": [
    "woopty[1][0]"
   ]
  },
  {
   "cell_type": "code",
   "execution_count": 7,
   "metadata": {},
   "outputs": [
    {
     "data": {
      "text/plain": [
       "[[<td><strong>Safety-Kleen Systems Inc.</strong><br/>\n",
       "  \t\t\tEPA ID: MAD047075734<br/>\n",
       "  \t\t\tLicense: #34B<br/>\n",
       "  \t\t\t50A Brigham Street<br/>\n",
       "  \t\t\tMarlborough, MA 01752<br/>\n",
       "  \t\t\t508-481-3116</td>, <td>\n",
       "  <p><strong>Murphy's Waste Oil Storage Inc.</strong><br/>\n",
       "  \t\t\tEPA ID: MAD066588005<br/>\n",
       "  \t\t\tLicense: #23B<br/>\n",
       "  \t\t\t252 Salem Street<br/>\n",
       "  \t\t\tWoburn, MA 01801<br/>\n",
       "  \t\t\t781-935-9066</p>\n",
       "  </td>, <td><strong>Safety-Kleen Systems Inc.</strong><br/>\n",
       "  \t\t\tEPA ID: MAD096287354<br/>\n",
       "  \t\t\tLicense: #29B<br/>\n",
       "  \t\t\tRoute 9 <br/>\n",
       "  \t\t\tWest Brookfield, MA 01585<br/>\n",
       "  \t\t\t508-867-7184</td>, <td><strong>Safety-Kleen Systems Inc.</strong><br/>\n",
       "  \t\t\tEPA ID: MAD060095569<br/>\n",
       "  \t\t\tLicense: #21B<br/>\n",
       "  \t\t\t90 Rabbit Road<br/>\n",
       "  \t\t\tSalisbury, MA 01952<br/>\n",
       "  \t\t\t978-465-8900</td>, <td><strong>Tradebe Northborough</strong><br/>\n",
       "  \t\t\tEPA ID: MAD052924495<br/>\n",
       "  \t\t\tLicense: #17B<br/>\n",
       "  \t\t\t345 W. Main Street<br/>\n",
       "  \t\t\tNorthborough, MA 01532<br/>\n",
       "  \t\t\t508-351-9660</td>, <td><strong>Trumvirate Environmental<br/>\n",
       "  \t\t\t(Merrimack) Inc.  </strong><br/>\n",
       "  \t\t\tEPA ID: MAD047075734<br/>\n",
       "  \t\t\tLicense: #34B<br/>\n",
       "  \t\t\t263 Howard Street<br/>\n",
       "  \t\t\tLowell, MA 01851<br/>\n",
       "  \t\t\t978-453-7772</td>, <td><strong>Clean Harbors of Braintree Inc.</strong><br/>\n",
       "  \t\t\tEPA ID: MAD053452637<br/>\n",
       "  \t\t\tLicense: #5B<br/>\n",
       "  \t\t\t385 Quincy Avenue<br/>\n",
       "  \t\t\tBraintree, MA 02184<br/>\n",
       "  \t\t\t781-380-7100</td>, <td><strong>General Electric Co.*</strong><br/>\n",
       "  \t\t\tEPA ID: MAD002084093<br/>\n",
       "  \t\t\tLicense: #28<br/>\n",
       "  \t\t\t100 Woodlawn Avenue<br/>\n",
       "  \t\t\tPittsfield, MA 01201-3678<br/>\n",
       "  \t\t\t413-448-5903</td>, <td>\n",
       "  <p><strong>Cyn Oil Corp.</strong><br/>\n",
       "  \t\t\tEPA ID: MAD082303777<br/>\n",
       "  \t\t\tLicense: #18B<br/>\n",
       "  \t\t\t1771 Washington Street<br/>\n",
       "  \t\t\tStoughton, MA 02072<br/>\n",
       "  \t\t\t781-341-1777</p>\n",
       "  </td>, <td><strong>Solutia Inc.*</strong><br/>\n",
       "  \t\t\tEPA ID: MAD001114818<br/>\n",
       "  \t\t\tLicense: #36B<br/>\n",
       "  \t\t\t730 Worcester Street<br/>\n",
       "  \t\t\tIndian Orchard, MA 01157<br/>\n",
       "  \t\t\t413-730-2300</td>, <td><strong>Tradebe Treatment &amp; Recycling<br/>\n",
       "  \t\t\tof Stoughton LLC</strong><br/>\n",
       "  \t\t\tEPA ID: MAD062179890<br/>\n",
       "  \t\t\tLicense: #31B<br/>\n",
       "  \t\t\t441R Canton Street<br/>\n",
       "  \t\t\tStoughton, MA 02072<br/>\n",
       "  \t\t\t781-297-3530</td>, <td> </td>],\n",
       " [<td>\n",
       "  <p><strong>Aggregate Industries</strong><br/>\n",
       "  \t\t\t651 Lake Street<br/>\n",
       "  \t\t\tShrewsbury, MA 01545</p>\n",
       "  <p>Recycles: Petroleum-Contaminated Soil</p>\n",
       "  </td>, <td>\n",
       "  <p><strong>Complete Recycling Solutions</strong><br/>\n",
       "  \t\t\t1075 Airport Road<br/>\n",
       "  \t\t\tFall River, MA 02723</p>\n",
       "  <p>Recycles: Mercury-Containing Waste</p>\n",
       "  </td>, <td>\n",
       "  <p><strong>Aggregate Industries</strong><br/>\n",
       "  \t\t\t230 Great Western Road<br/>\n",
       "  \t\t\tSouth Dennis, MA 02660</p>\n",
       "  <p>Recycles: Petroleum-Contaminated Soil</p>\n",
       "  </td>, <td>\n",
       "  <p><strong>Maxymillian Technologies Inc.</strong><br/>\n",
       "  \t\t\t1801 East Street<br/>\n",
       "  \t\t\tPittsfield, MA 01201</p>\n",
       "  <p>Recycles: Petroleum-Contaminated Soil</p>\n",
       "  </td>, <td>\n",
       "  <p><strong>Aggregate Industries</strong><br/>\n",
       "  \t\t\t1101 Turnpike Street<br/>\n",
       "  \t\t\tStoughton, MA 02072</p>\n",
       "  <p>Recycles: Petroleum-Contaminated Soil</p>\n",
       "  </td>, <td>\n",
       "  <p><strong>Ondrick Materials &amp; Recycling LLC</strong><br/>\n",
       "  \t\t\t22 Industry Road<br/>\n",
       "  \t\t\tChicopee, MA 01020</p>\n",
       "  <p>Recycles: Petroleum-Contaminated Soil</p>\n",
       "  </td>, <td>\n",
       "  <p><strong>Brox Industries Inc.</strong><br/>\n",
       "  \t\t\t1471 Methuen Street<br/>\n",
       "  \t\t\tDracut, MA 01826</p>\n",
       "  <p>Recycles: Petroleum-Contaminated Soil (hot mix asphalt only)</p>\n",
       "  </td>, <td>\n",
       "  <p><strong>Veolia ES Technical Solutions LLC</strong><br/>\n",
       "  \t\t\t90 Pleasant Street<br/>\n",
       "  \t\t\tWest Bridgewater, MA 02379</p>\n",
       "  <p>Recycles: Mercury-Containing Waste</p>\n",
       "  </td>],\n",
       " []]"
      ]
     },
     "execution_count": 7,
     "metadata": {},
     "output_type": "execute_result"
    }
   ],
   "source": [
    "woopty"
   ]
  },
  {
   "cell_type": "code",
   "execution_count": 14,
   "metadata": {},
   "outputs": [],
   "source": [
    "#regex\n",
    "#(?<=strong>).*$"
   ]
  },
  {
   "cell_type": "code",
   "execution_count": 15,
   "metadata": {},
   "outputs": [],
   "source": [
    "#https://regex101.com/"
   ]
  },
  {
   "cell_type": "code",
   "execution_count": null,
   "metadata": {},
   "outputs": [],
   "source": []
  },
  {
   "cell_type": "code",
   "execution_count": null,
   "metadata": {},
   "outputs": [],
   "source": []
  },
  {
   "cell_type": "code",
   "execution_count": 8,
   "metadata": {},
   "outputs": [],
   "source": [
    "import xml.etree.ElementTree"
   ]
  },
  {
   "cell_type": "code",
   "execution_count": 9,
   "metadata": {},
   "outputs": [],
   "source": [
    "def remove_tags(text):\n",
    "    return ''.join(xml.etree.ElementTree.fromstring(text).itertext())"
   ]
  },
  {
   "cell_type": "code",
   "execution_count": null,
   "metadata": {},
   "outputs": [],
   "source": []
  },
  {
   "cell_type": "code",
   "execution_count": 10,
   "metadata": {},
   "outputs": [],
   "source": [
    "import re\n",
    "\n",
    "def cleanhtml(raw_html):\n",
    "  cleanr = re.compile('<.*?>')\n",
    "  cleantext = re.sub(cleanr, '', raw_html)\n",
    "  return cleantext"
   ]
  },
  {
   "cell_type": "code",
   "execution_count": 11,
   "metadata": {},
   "outputs": [],
   "source": [
    "woo = str(woopty)"
   ]
  },
  {
   "cell_type": "code",
   "execution_count": 12,
   "metadata": {},
   "outputs": [],
   "source": [
    "w = cleanhtml(woo)"
   ]
  },
  {
   "cell_type": "code",
   "execution_count": 13,
   "metadata": {},
   "outputs": [
    {
     "data": {
      "text/plain": [
       "\"[[Safety-Kleen Systems Inc.\\n\\t\\t\\tEPA ID: MAD047075734\\n\\t\\t\\tLicense: #34B\\n\\t\\t\\t50A Brigham Street\\n\\t\\t\\tMarlborough, MA 01752\\n\\t\\t\\t508-481-3116, \\nMurphy's Waste Oil Storage Inc.\\n\\t\\t\\tEPA ID: MAD066588005\\n\\t\\t\\tLicense: #23B\\n\\t\\t\\t252 Salem Street\\n\\t\\t\\tWoburn, MA 01801\\n\\t\\t\\t781-935-9066\\n, Safety-Kleen Systems Inc.\\n\\t\\t\\tEPA ID: MAD096287354\\n\\t\\t\\tLicense: #29B\\n\\t\\t\\tRoute 9\\xa0\\n\\t\\t\\tWest Brookfield, MA 01585\\n\\t\\t\\t508-867-7184, Safety-Kleen Systems Inc.\\n\\t\\t\\tEPA ID: MAD060095569\\n\\t\\t\\tLicense: #21B\\n\\t\\t\\t90 Rabbit Road\\n\\t\\t\\tSalisbury, MA 01952\\n\\t\\t\\t978-465-8900, Tradebe Northborough\\n\\t\\t\\tEPA ID: MAD052924495\\n\\t\\t\\tLicense: #17B\\n\\t\\t\\t345 W. Main Street\\n\\t\\t\\tNorthborough, MA 01532\\n\\t\\t\\t508-351-9660, Trumvirate Environmental\\n\\t\\t\\t(Merrimack) Inc.\\xa0 \\n\\t\\t\\tEPA ID: MAD047075734\\n\\t\\t\\tLicense: #34B\\n\\t\\t\\t263 Howard Street\\n\\t\\t\\tLowell, MA 01851\\n\\t\\t\\t978-453-7772, Clean Harbors of Braintree Inc.\\n\\t\\t\\tEPA ID: MAD053452637\\n\\t\\t\\tLicense: #5B\\n\\t\\t\\t385 Quincy Avenue\\n\\t\\t\\tBraintree, MA 02184\\n\\t\\t\\t781-380-7100, General Electric Co.*\\n\\t\\t\\tEPA ID: MAD002084093\\n\\t\\t\\tLicense: #28\\n\\t\\t\\t100 Woodlawn Avenue\\n\\t\\t\\tPittsfield, MA 01201-3678\\n\\t\\t\\t413-448-5903, \\nCyn Oil Corp.\\n\\t\\t\\tEPA ID: MAD082303777\\n\\t\\t\\tLicense: #18B\\n\\t\\t\\t1771 Washington Street\\n\\t\\t\\tStoughton, MA 02072\\n\\t\\t\\t781-341-1777\\n, Solutia Inc.*\\n\\t\\t\\tEPA ID: MAD001114818\\n\\t\\t\\tLicense: #36B\\n\\t\\t\\t730 Worcester Street\\n\\t\\t\\tIndian Orchard, MA 01157\\n\\t\\t\\t413-730-2300, Tradebe Treatment &amp; Recycling\\n\\t\\t\\tof Stoughton LLC\\n\\t\\t\\tEPA ID: MAD062179890\\n\\t\\t\\tLicense: #31B\\n\\t\\t\\t441R Canton Street\\n\\t\\t\\tStoughton, MA 02072\\n\\t\\t\\t781-297-3530, \\xa0], [\\nAggregate Industries\\n\\t\\t\\t651 Lake Street\\n\\t\\t\\tShrewsbury, MA 01545\\nRecycles: Petroleum-Contaminated Soil\\n, \\nComplete Recycling Solutions\\n\\t\\t\\t1075 Airport Road\\n\\t\\t\\tFall River, MA 02723\\nRecycles: Mercury-Containing Waste\\n, \\nAggregate Industries\\n\\t\\t\\t230 Great Western Road\\n\\t\\t\\tSouth Dennis, MA 02660\\nRecycles: Petroleum-Contaminated Soil\\n, \\nMaxymillian Technologies Inc.\\n\\t\\t\\t1801 East Street\\n\\t\\t\\tPittsfield, MA 01201\\nRecycles: Petroleum-Contaminated Soil\\n, \\nAggregate Industries\\n\\t\\t\\t1101 Turnpike Street\\n\\t\\t\\tStoughton, MA 02072\\nRecycles: Petroleum-Contaminated Soil\\n, \\nOndrick Materials &amp; Recycling LLC\\n\\t\\t\\t22 Industry Road\\n\\t\\t\\tChicopee, MA 01020\\nRecycles: Petroleum-Contaminated Soil\\n, \\nBrox Industries Inc.\\n\\t\\t\\t1471 Methuen Street\\n\\t\\t\\tDracut, MA 01826\\nRecycles: Petroleum-Contaminated Soil (hot mix asphalt only)\\n, \\nVeolia ES Technical Solutions LLC\\n\\t\\t\\t90 Pleasant Street\\n\\t\\t\\tWest Bridgewater, MA 02379\\nRecycles: Mercury-Containing Waste\\n], []]\""
      ]
     },
     "execution_count": 13,
     "metadata": {},
     "output_type": "execute_result"
    }
   ],
   "source": [
    "w"
   ]
  },
  {
   "cell_type": "code",
   "execution_count": 1,
   "metadata": {},
   "outputs": [],
   "source": [
    "import pandas as pd"
   ]
  },
  {
   "cell_type": "code",
   "execution_count": 2,
   "metadata": {},
   "outputs": [],
   "source": [
    "hazmat = pd.read_csv(r'\\Users\\mia.martin\\Documents\\DSI-7\\projects\\project_4\\hazmat.csv')"
   ]
  },
  {
   "cell_type": "code",
   "execution_count": 3,
   "metadata": {},
   "outputs": [],
   "source": [
    "import pickle"
   ]
  },
  {
   "cell_type": "code",
   "execution_count": 5,
   "metadata": {},
   "outputs": [],
   "source": [
    "with open('hazmat.pickle', 'wb') as f:\n",
    "    pickle.dump(hazmat, f)"
   ]
  },
  {
   "cell_type": "code",
   "execution_count": null,
   "metadata": {},
   "outputs": [],
   "source": []
  }
 ],
 "metadata": {
  "kernelspec": {
   "display_name": "Python 3",
   "language": "python",
   "name": "python3"
  },
  "language_info": {
   "codemirror_mode": {
    "name": "ipython",
    "version": 3
   },
   "file_extension": ".py",
   "mimetype": "text/x-python",
   "name": "python",
   "nbconvert_exporter": "python",
   "pygments_lexer": "ipython3",
   "version": "3.6.5"
  }
 },
 "nbformat": 4,
 "nbformat_minor": 2
}
